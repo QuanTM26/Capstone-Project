{
 "cells": [
  {
   "cell_type": "markdown",
   "metadata": {},
   "source": [
    "# Sparkify Project Workspace\n",
    "This workspace contains a tiny subset (128MB) of the full dataset available (12GB). Feel free to use this workspace to build your project, or to explore a smaller subset with Spark before deploying your cluster on the cloud. Instructions for setting up your Spark cluster is included in the last lesson of the Extracurricular Spark Course content.\n",
    "\n",
    "You can follow the steps below to guide your data analysis and model building portion of this project."
   ]
  },
  {
   "cell_type": "code",
   "execution_count": 1,
   "metadata": {},
   "outputs": [],
   "source": [
    "# import libraries\n",
    "from pyspark.sql import SparkSession\n",
    "from pyspark.sql import functions as F\n",
    "from pyspark.sql import Window\n",
    "import pandas as pd\n",
    "import matplotlib.pyplot as plt\n",
    "import seaborn as sns\n",
    "from sklearn.model_selection import train_test_split\n",
    "from pyspark.ml.feature import VectorAssembler, MinMaxScaler\n",
    "from pyspark.ml import Pipeline\n",
    "from pyspark.ml.evaluation import MulticlassClassificationEvaluator\n",
    "from pyspark.ml.tuning import CrossValidator, ParamGridBuilder\n",
    "from pyspark.ml.classification import LogisticRegression, RandomForestClassifier, GBTClassifier\n",
    "\n",
    "sns.set_style('darkgrid')"
   ]
  },
  {
   "cell_type": "code",
   "execution_count": 2,
   "metadata": {},
   "outputs": [],
   "source": [
    "# create a Spark session\n",
    "spark = SparkSession.builder \\\n",
    "    .master(\"local\") \\\n",
    "    .appName(\"Sparkify\") \\\n",
    "    .getOrCreate()"
   ]
  },
  {
   "cell_type": "markdown",
   "metadata": {},
   "source": [
    "# Load and Clean Dataset\n",
    "In this workspace, the mini-dataset file is `mini_sparkify_event_data.json`. Load and clean the dataset, checking for invalid or missing data - for example, records without userids or sessionids. "
   ]
  },
  {
   "cell_type": "code",
   "execution_count": 3,
   "metadata": {},
   "outputs": [
    {
     "name": "stdout",
     "output_type": "stream",
     "text": [
      "+----------------+---------+---------+------+-------------+--------+---------+-----+--------------------+------+--------+-------------+---------+--------------------+------+-------------+--------------------+------+\n",
      "|          artist|     auth|firstName|gender|itemInSession|lastName|   length|level|            location|method|    page| registration|sessionId|                song|status|           ts|           userAgent|userId|\n",
      "+----------------+---------+---------+------+-------------+--------+---------+-----+--------------------+------+--------+-------------+---------+--------------------+------+-------------+--------------------+------+\n",
      "|  Martha Tilston|Logged In|    Colin|     M|           50| Freeman|277.89016| paid|     Bakersfield, CA|   PUT|NextSong|1538173362000|       29|           Rockpools|   200|1538352117000|Mozilla/5.0 (Wind...|    30|\n",
      "|Five Iron Frenzy|Logged In|    Micah|     M|           79|    Long|236.09424| free|Boston-Cambridge-...|   PUT|NextSong|1538331630000|        8|              Canada|   200|1538352180000|\"Mozilla/5.0 (Win...|     9|\n",
      "|    Adam Lambert|Logged In|    Colin|     M|           51| Freeman| 282.8273| paid|     Bakersfield, CA|   PUT|NextSong|1538173362000|       29|   Time For Miracles|   200|1538352394000|Mozilla/5.0 (Wind...|    30|\n",
      "|          Enigma|Logged In|    Micah|     M|           80|    Long|262.71302| free|Boston-Cambridge-...|   PUT|NextSong|1538331630000|        8|Knocking On Forbi...|   200|1538352416000|\"Mozilla/5.0 (Win...|     9|\n",
      "|       Daft Punk|Logged In|    Colin|     M|           52| Freeman|223.60771| paid|     Bakersfield, CA|   PUT|NextSong|1538173362000|       29|Harder Better Fas...|   200|1538352676000|Mozilla/5.0 (Wind...|    30|\n",
      "+----------------+---------+---------+------+-------------+--------+---------+-----+--------------------+------+--------+-------------+---------+--------------------+------+-------------+--------------------+------+\n",
      "only showing top 5 rows\n",
      "\n"
     ]
    }
   ],
   "source": [
    "# load dataset\n",
    "df = spark.read.json('mini_sparkify_event_data.json')\n",
    "df.show(5)"
   ]
  },
  {
   "cell_type": "code",
   "execution_count": 4,
   "metadata": {},
   "outputs": [
    {
     "name": "stdout",
     "output_type": "stream",
     "text": [
      "- Schema:\n",
      "root\n",
      " |-- artist: string (nullable = true)\n",
      " |-- auth: string (nullable = true)\n",
      " |-- firstName: string (nullable = true)\n",
      " |-- gender: string (nullable = true)\n",
      " |-- itemInSession: long (nullable = true)\n",
      " |-- lastName: string (nullable = true)\n",
      " |-- length: double (nullable = true)\n",
      " |-- level: string (nullable = true)\n",
      " |-- location: string (nullable = true)\n",
      " |-- method: string (nullable = true)\n",
      " |-- page: string (nullable = true)\n",
      " |-- registration: long (nullable = true)\n",
      " |-- sessionId: long (nullable = true)\n",
      " |-- song: string (nullable = true)\n",
      " |-- status: long (nullable = true)\n",
      " |-- ts: long (nullable = true)\n",
      " |-- userAgent: string (nullable = true)\n",
      " |-- userId: string (nullable = true)\n",
      "\n",
      "- Number of records: 286500\n"
     ]
    }
   ],
   "source": [
    "# Check data schema\n",
    "print('- Schema:')\n",
    "df.printSchema()\n",
    "\n",
    "# Number of records\n",
    "print('- Number of records:', df.count())"
   ]
  },
  {
   "cell_type": "code",
   "execution_count": 5,
   "metadata": {},
   "outputs": [],
   "source": [
    "# convert to pandas for overview data\n",
    "df_pandas = df.toPandas()"
   ]
  },
  {
   "cell_type": "code",
   "execution_count": 6,
   "metadata": {
    "scrolled": false
   },
   "outputs": [
    {
     "data": {
      "text/html": [
       "<div>\n",
       "<style scoped>\n",
       "    .dataframe tbody tr th:only-of-type {\n",
       "        vertical-align: middle;\n",
       "    }\n",
       "\n",
       "    .dataframe tbody tr th {\n",
       "        vertical-align: top;\n",
       "    }\n",
       "\n",
       "    .dataframe thead th {\n",
       "        text-align: right;\n",
       "    }\n",
       "</style>\n",
       "<table border=\"1\" class=\"dataframe\">\n",
       "  <thead>\n",
       "    <tr style=\"text-align: right;\">\n",
       "      <th></th>\n",
       "      <th>artist</th>\n",
       "      <th>auth</th>\n",
       "      <th>firstName</th>\n",
       "      <th>gender</th>\n",
       "      <th>itemInSession</th>\n",
       "      <th>lastName</th>\n",
       "      <th>length</th>\n",
       "      <th>level</th>\n",
       "      <th>location</th>\n",
       "      <th>method</th>\n",
       "      <th>page</th>\n",
       "      <th>registration</th>\n",
       "      <th>sessionId</th>\n",
       "      <th>song</th>\n",
       "      <th>status</th>\n",
       "      <th>ts</th>\n",
       "      <th>userAgent</th>\n",
       "      <th>userId</th>\n",
       "    </tr>\n",
       "  </thead>\n",
       "  <tbody>\n",
       "    <tr>\n",
       "      <th>0</th>\n",
       "      <td>Martha Tilston</td>\n",
       "      <td>Logged In</td>\n",
       "      <td>Colin</td>\n",
       "      <td>M</td>\n",
       "      <td>50</td>\n",
       "      <td>Freeman</td>\n",
       "      <td>277.89016</td>\n",
       "      <td>paid</td>\n",
       "      <td>Bakersfield, CA</td>\n",
       "      <td>PUT</td>\n",
       "      <td>NextSong</td>\n",
       "      <td>1.538173e+12</td>\n",
       "      <td>29</td>\n",
       "      <td>Rockpools</td>\n",
       "      <td>200</td>\n",
       "      <td>1538352117000</td>\n",
       "      <td>Mozilla/5.0 (Windows NT 6.1; WOW64; rv:31.0) G...</td>\n",
       "      <td>30</td>\n",
       "    </tr>\n",
       "    <tr>\n",
       "      <th>1</th>\n",
       "      <td>Five Iron Frenzy</td>\n",
       "      <td>Logged In</td>\n",
       "      <td>Micah</td>\n",
       "      <td>M</td>\n",
       "      <td>79</td>\n",
       "      <td>Long</td>\n",
       "      <td>236.09424</td>\n",
       "      <td>free</td>\n",
       "      <td>Boston-Cambridge-Newton, MA-NH</td>\n",
       "      <td>PUT</td>\n",
       "      <td>NextSong</td>\n",
       "      <td>1.538332e+12</td>\n",
       "      <td>8</td>\n",
       "      <td>Canada</td>\n",
       "      <td>200</td>\n",
       "      <td>1538352180000</td>\n",
       "      <td>\"Mozilla/5.0 (Windows NT 6.1; WOW64) AppleWebK...</td>\n",
       "      <td>9</td>\n",
       "    </tr>\n",
       "    <tr>\n",
       "      <th>2</th>\n",
       "      <td>Adam Lambert</td>\n",
       "      <td>Logged In</td>\n",
       "      <td>Colin</td>\n",
       "      <td>M</td>\n",
       "      <td>51</td>\n",
       "      <td>Freeman</td>\n",
       "      <td>282.82730</td>\n",
       "      <td>paid</td>\n",
       "      <td>Bakersfield, CA</td>\n",
       "      <td>PUT</td>\n",
       "      <td>NextSong</td>\n",
       "      <td>1.538173e+12</td>\n",
       "      <td>29</td>\n",
       "      <td>Time For Miracles</td>\n",
       "      <td>200</td>\n",
       "      <td>1538352394000</td>\n",
       "      <td>Mozilla/5.0 (Windows NT 6.1; WOW64; rv:31.0) G...</td>\n",
       "      <td>30</td>\n",
       "    </tr>\n",
       "    <tr>\n",
       "      <th>3</th>\n",
       "      <td>Enigma</td>\n",
       "      <td>Logged In</td>\n",
       "      <td>Micah</td>\n",
       "      <td>M</td>\n",
       "      <td>80</td>\n",
       "      <td>Long</td>\n",
       "      <td>262.71302</td>\n",
       "      <td>free</td>\n",
       "      <td>Boston-Cambridge-Newton, MA-NH</td>\n",
       "      <td>PUT</td>\n",
       "      <td>NextSong</td>\n",
       "      <td>1.538332e+12</td>\n",
       "      <td>8</td>\n",
       "      <td>Knocking On Forbidden Doors</td>\n",
       "      <td>200</td>\n",
       "      <td>1538352416000</td>\n",
       "      <td>\"Mozilla/5.0 (Windows NT 6.1; WOW64) AppleWebK...</td>\n",
       "      <td>9</td>\n",
       "    </tr>\n",
       "    <tr>\n",
       "      <th>4</th>\n",
       "      <td>Daft Punk</td>\n",
       "      <td>Logged In</td>\n",
       "      <td>Colin</td>\n",
       "      <td>M</td>\n",
       "      <td>52</td>\n",
       "      <td>Freeman</td>\n",
       "      <td>223.60771</td>\n",
       "      <td>paid</td>\n",
       "      <td>Bakersfield, CA</td>\n",
       "      <td>PUT</td>\n",
       "      <td>NextSong</td>\n",
       "      <td>1.538173e+12</td>\n",
       "      <td>29</td>\n",
       "      <td>Harder Better Faster Stronger</td>\n",
       "      <td>200</td>\n",
       "      <td>1538352676000</td>\n",
       "      <td>Mozilla/5.0 (Windows NT 6.1; WOW64; rv:31.0) G...</td>\n",
       "      <td>30</td>\n",
       "    </tr>\n",
       "  </tbody>\n",
       "</table>\n",
       "</div>"
      ],
      "text/plain": [
       "             artist       auth firstName gender  itemInSession lastName  \\\n",
       "0    Martha Tilston  Logged In     Colin      M             50  Freeman   \n",
       "1  Five Iron Frenzy  Logged In     Micah      M             79     Long   \n",
       "2      Adam Lambert  Logged In     Colin      M             51  Freeman   \n",
       "3            Enigma  Logged In     Micah      M             80     Long   \n",
       "4         Daft Punk  Logged In     Colin      M             52  Freeman   \n",
       "\n",
       "      length level                        location method      page  \\\n",
       "0  277.89016  paid                 Bakersfield, CA    PUT  NextSong   \n",
       "1  236.09424  free  Boston-Cambridge-Newton, MA-NH    PUT  NextSong   \n",
       "2  282.82730  paid                 Bakersfield, CA    PUT  NextSong   \n",
       "3  262.71302  free  Boston-Cambridge-Newton, MA-NH    PUT  NextSong   \n",
       "4  223.60771  paid                 Bakersfield, CA    PUT  NextSong   \n",
       "\n",
       "   registration  sessionId                           song  status  \\\n",
       "0  1.538173e+12         29                      Rockpools     200   \n",
       "1  1.538332e+12          8                         Canada     200   \n",
       "2  1.538173e+12         29              Time For Miracles     200   \n",
       "3  1.538332e+12          8    Knocking On Forbidden Doors     200   \n",
       "4  1.538173e+12         29  Harder Better Faster Stronger     200   \n",
       "\n",
       "              ts                                          userAgent userId  \n",
       "0  1538352117000  Mozilla/5.0 (Windows NT 6.1; WOW64; rv:31.0) G...     30  \n",
       "1  1538352180000  \"Mozilla/5.0 (Windows NT 6.1; WOW64) AppleWebK...      9  \n",
       "2  1538352394000  Mozilla/5.0 (Windows NT 6.1; WOW64; rv:31.0) G...     30  \n",
       "3  1538352416000  \"Mozilla/5.0 (Windows NT 6.1; WOW64) AppleWebK...      9  \n",
       "4  1538352676000  Mozilla/5.0 (Windows NT 6.1; WOW64; rv:31.0) G...     30  "
      ]
     },
     "execution_count": 6,
     "metadata": {},
     "output_type": "execute_result"
    }
   ],
   "source": [
    "df_pandas.head()"
   ]
  },
  {
   "cell_type": "code",
   "execution_count": 7,
   "metadata": {
    "scrolled": false
   },
   "outputs": [
    {
     "name": "stdout",
     "output_type": "stream",
     "text": [
      "<class 'pandas.core.frame.DataFrame'>\n",
      "RangeIndex: 286500 entries, 0 to 286499\n",
      "Data columns (total 18 columns):\n",
      "artist           228108 non-null object\n",
      "auth             286500 non-null object\n",
      "firstName        278154 non-null object\n",
      "gender           278154 non-null object\n",
      "itemInSession    286500 non-null int64\n",
      "lastName         278154 non-null object\n",
      "length           228108 non-null float64\n",
      "level            286500 non-null object\n",
      "location         278154 non-null object\n",
      "method           286500 non-null object\n",
      "page             286500 non-null object\n",
      "registration     278154 non-null float64\n",
      "sessionId        286500 non-null int64\n",
      "song             228108 non-null object\n",
      "status           286500 non-null int64\n",
      "ts               286500 non-null int64\n",
      "userAgent        278154 non-null object\n",
      "userId           286500 non-null object\n",
      "dtypes: float64(2), int64(4), object(12)\n",
      "memory usage: 39.3+ MB\n"
     ]
    }
   ],
   "source": [
    "df_pandas.info() "
   ]
  },
  {
   "cell_type": "code",
   "execution_count": 8,
   "metadata": {},
   "outputs": [
    {
     "data": {
      "text/html": [
       "<div>\n",
       "<style scoped>\n",
       "    .dataframe tbody tr th:only-of-type {\n",
       "        vertical-align: middle;\n",
       "    }\n",
       "\n",
       "    .dataframe tbody tr th {\n",
       "        vertical-align: top;\n",
       "    }\n",
       "\n",
       "    .dataframe thead th {\n",
       "        text-align: right;\n",
       "    }\n",
       "</style>\n",
       "<table border=\"1\" class=\"dataframe\">\n",
       "  <thead>\n",
       "    <tr style=\"text-align: right;\">\n",
       "      <th></th>\n",
       "      <th>itemInSession</th>\n",
       "      <th>length</th>\n",
       "      <th>registration</th>\n",
       "      <th>sessionId</th>\n",
       "      <th>status</th>\n",
       "      <th>ts</th>\n",
       "    </tr>\n",
       "  </thead>\n",
       "  <tbody>\n",
       "    <tr>\n",
       "      <th>count</th>\n",
       "      <td>286500.000000</td>\n",
       "      <td>228108.000000</td>\n",
       "      <td>2.781540e+05</td>\n",
       "      <td>286500.000000</td>\n",
       "      <td>286500.000000</td>\n",
       "      <td>2.865000e+05</td>\n",
       "    </tr>\n",
       "    <tr>\n",
       "      <th>mean</th>\n",
       "      <td>114.414213</td>\n",
       "      <td>249.117182</td>\n",
       "      <td>1.535359e+12</td>\n",
       "      <td>1041.526555</td>\n",
       "      <td>210.054597</td>\n",
       "      <td>1.540957e+12</td>\n",
       "    </tr>\n",
       "    <tr>\n",
       "      <th>std</th>\n",
       "      <td>129.767262</td>\n",
       "      <td>99.235179</td>\n",
       "      <td>3.291322e+09</td>\n",
       "      <td>726.776263</td>\n",
       "      <td>31.505078</td>\n",
       "      <td>1.507544e+09</td>\n",
       "    </tr>\n",
       "    <tr>\n",
       "      <th>min</th>\n",
       "      <td>0.000000</td>\n",
       "      <td>0.783220</td>\n",
       "      <td>1.521381e+12</td>\n",
       "      <td>1.000000</td>\n",
       "      <td>200.000000</td>\n",
       "      <td>1.538352e+12</td>\n",
       "    </tr>\n",
       "    <tr>\n",
       "      <th>25%</th>\n",
       "      <td>27.000000</td>\n",
       "      <td>199.888530</td>\n",
       "      <td>1.533522e+12</td>\n",
       "      <td>336.000000</td>\n",
       "      <td>200.000000</td>\n",
       "      <td>1.539697e+12</td>\n",
       "    </tr>\n",
       "    <tr>\n",
       "      <th>50%</th>\n",
       "      <td>70.000000</td>\n",
       "      <td>234.500770</td>\n",
       "      <td>1.536664e+12</td>\n",
       "      <td>1013.000000</td>\n",
       "      <td>200.000000</td>\n",
       "      <td>1.540932e+12</td>\n",
       "    </tr>\n",
       "    <tr>\n",
       "      <th>75%</th>\n",
       "      <td>156.250000</td>\n",
       "      <td>277.158730</td>\n",
       "      <td>1.537672e+12</td>\n",
       "      <td>1675.000000</td>\n",
       "      <td>200.000000</td>\n",
       "      <td>1.542266e+12</td>\n",
       "    </tr>\n",
       "    <tr>\n",
       "      <th>max</th>\n",
       "      <td>1321.000000</td>\n",
       "      <td>3024.665670</td>\n",
       "      <td>1.543247e+12</td>\n",
       "      <td>2474.000000</td>\n",
       "      <td>404.000000</td>\n",
       "      <td>1.543799e+12</td>\n",
       "    </tr>\n",
       "  </tbody>\n",
       "</table>\n",
       "</div>"
      ],
      "text/plain": [
       "       itemInSession         length  registration      sessionId  \\\n",
       "count  286500.000000  228108.000000  2.781540e+05  286500.000000   \n",
       "mean      114.414213     249.117182  1.535359e+12    1041.526555   \n",
       "std       129.767262      99.235179  3.291322e+09     726.776263   \n",
       "min         0.000000       0.783220  1.521381e+12       1.000000   \n",
       "25%        27.000000     199.888530  1.533522e+12     336.000000   \n",
       "50%        70.000000     234.500770  1.536664e+12    1013.000000   \n",
       "75%       156.250000     277.158730  1.537672e+12    1675.000000   \n",
       "max      1321.000000    3024.665670  1.543247e+12    2474.000000   \n",
       "\n",
       "              status            ts  \n",
       "count  286500.000000  2.865000e+05  \n",
       "mean      210.054597  1.540957e+12  \n",
       "std        31.505078  1.507544e+09  \n",
       "min       200.000000  1.538352e+12  \n",
       "25%       200.000000  1.539697e+12  \n",
       "50%       200.000000  1.540932e+12  \n",
       "75%       200.000000  1.542266e+12  \n",
       "max       404.000000  1.543799e+12  "
      ]
     },
     "execution_count": 8,
     "metadata": {},
     "output_type": "execute_result"
    }
   ],
   "source": [
    "df_pandas.describe()"
   ]
  },
  {
   "cell_type": "code",
   "execution_count": 9,
   "metadata": {},
   "outputs": [
    {
     "data": {
      "text/plain": [
       "Logged In     278102\n",
       "Logged Out      8249\n",
       "Guest             97\n",
       "Cancelled         52\n",
       "Name: auth, dtype: int64"
      ]
     },
     "execution_count": 9,
     "metadata": {},
     "output_type": "execute_result"
    }
   ],
   "source": [
    "# check 'auth' values\n",
    "df_pandas['auth'].value_counts()"
   ]
  },
  {
   "cell_type": "code",
   "execution_count": 10,
   "metadata": {},
   "outputs": [
    {
     "data": {
      "text/plain": [
       "paid    228162\n",
       "free     58338\n",
       "Name: level, dtype: int64"
      ]
     },
     "execution_count": 10,
     "metadata": {},
     "output_type": "execute_result"
    }
   ],
   "source": [
    "# check 'level' values\n",
    "df_pandas['level'].value_counts()"
   ]
  },
  {
   "cell_type": "code",
   "execution_count": 11,
   "metadata": {
    "scrolled": false
   },
   "outputs": [
    {
     "data": {
      "text/plain": [
       "NextSong                     228108\n",
       "Home                          14457\n",
       "Thumbs Up                     12551\n",
       "Add to Playlist                6526\n",
       "Add Friend                     4277\n",
       "Roll Advert                    3933\n",
       "Login                          3241\n",
       "Logout                         3226\n",
       "Thumbs Down                    2546\n",
       "Downgrade                      2055\n",
       "Help                           1726\n",
       "Settings                       1514\n",
       "About                           924\n",
       "Upgrade                         499\n",
       "Save Settings                   310\n",
       "Error                           258\n",
       "Submit Upgrade                  159\n",
       "Submit Downgrade                 63\n",
       "Cancellation Confirmation        52\n",
       "Cancel                           52\n",
       "Register                         18\n",
       "Submit Registration               5\n",
       "Name: page, dtype: int64"
      ]
     },
     "execution_count": 11,
     "metadata": {},
     "output_type": "execute_result"
    }
   ],
   "source": [
    "# check 'page' values\n",
    "df_pandas['page'].value_counts()"
   ]
  },
  {
   "cell_type": "code",
   "execution_count": 12,
   "metadata": {},
   "outputs": [
    {
     "data": {
      "text/plain": [
       "200    259812\n",
       "307     26430\n",
       "404       258\n",
       "Name: status, dtype: int64"
      ]
     },
     "execution_count": 12,
     "metadata": {},
     "output_type": "execute_result"
    }
   ],
   "source": [
    "# check 'status' values\n",
    "df_pandas['status'].value_counts()"
   ]
  },
  {
   "cell_type": "code",
   "execution_count": 13,
   "metadata": {},
   "outputs": [
    {
     "data": {
      "text/plain": [
       "226"
      ]
     },
     "execution_count": 13,
     "metadata": {},
     "output_type": "execute_result"
    }
   ],
   "source": [
    "# check number of unique user\n",
    "len(pd.unique(df_pandas['userId']))"
   ]
  },
  {
   "cell_type": "markdown",
   "metadata": {},
   "source": [
    "# Exploratory Data Analysis\n",
    "When you're working with the full dataset, perform EDA by loading a small subset of the data and doing basic manipulations within Spark. In this workspace, you are already provided a small subset of data you can explore.\n",
    "\n",
    "### Define Churn\n",
    "\n",
    "Once you've done some preliminary analysis, create a column `Churn` to use as the label for your model. I suggest using the `Cancellation Confirmation` events to define your churn, which happen for both paid and free users. As a bonus task, you can also look into the `Downgrade` events.\n",
    "\n",
    "### Explore Data\n",
    "Once you've defined churn, perform some exploratory data analysis to observe the behavior for users who stayed vs users who churned. You can start by exploring aggregates on these two groups of users, observing how much of a specific action they experienced per a certain time unit or number of songs played."
   ]
  },
  {
   "cell_type": "code",
   "execution_count": 14,
   "metadata": {},
   "outputs": [
    {
     "name": "stdout",
     "output_type": "stream",
     "text": [
      "+---------+------+--------+-----+---------+-------------+------+------+\n",
      "|     auth|gender|    page|level|sessionId|           ts|userId|status|\n",
      "+---------+------+--------+-----+---------+-------------+------+------+\n",
      "|Logged In|     M|NextSong| paid|       29|1538352117000|    30|   200|\n",
      "|Logged In|     M|NextSong| free|        8|1538352180000|     9|   200|\n",
      "|Logged In|     M|NextSong| paid|       29|1538352394000|    30|   200|\n",
      "|Logged In|     M|NextSong| free|        8|1538352416000|     9|   200|\n",
      "|Logged In|     M|NextSong| paid|       29|1538352676000|    30|   200|\n",
      "+---------+------+--------+-----+---------+-------------+------+------+\n",
      "only showing top 5 rows\n",
      "\n"
     ]
    }
   ],
   "source": [
    "# We will only use the following columns for the model: auth, gender, page, level, sessionId, ts, userId\n",
    "# We will temporarily keep the following columns for filtering: status\n",
    "df_clean = df.select(\\\n",
    "    'auth',\\\n",
    "    'gender',\\\n",
    "    'page',\\\n",
    "    'level',\\\n",
    "    'sessionId',\\\n",
    "    'ts',\\\n",
    "    'userId',\\\n",
    "    'status')\n",
    "\n",
    "df_clean.show(5)"
   ]
  },
  {
   "cell_type": "code",
   "execution_count": 15,
   "metadata": {
    "scrolled": true
   },
   "outputs": [
    {
     "name": "stdout",
     "output_type": "stream",
     "text": [
      "+----+------+----+-----+---------+---+------+------+\n",
      "|auth|gender|page|level|sessionId| ts|userId|status|\n",
      "+----+------+----+-----+---------+---+------+------+\n",
      "|   0|  8346|   0|    0|        0|  0|  8346|     0|\n",
      "+----+------+----+-----+---------+---+------+------+\n",
      "\n"
     ]
    }
   ],
   "source": [
    "# check null or empty values in dataframe \n",
    "df_clean.select([F.count(F.when((F.col(c).isNull()) | (F.col(c) == ''), c))\n",
    "                 .alias(c) for c in df_clean.columns]\n",
    "               ).show()"
   ]
  },
  {
   "cell_type": "markdown",
   "metadata": {},
   "source": [
    "There are **8346/286500** empty or null userID (~2.9%)."
   ]
  },
  {
   "cell_type": "code",
   "execution_count": 16,
   "metadata": {},
   "outputs": [
    {
     "name": "stdout",
     "output_type": "stream",
     "text": [
      "+----------+------+-----+-----+---------+-------------+------+------+\n",
      "|      auth|gender| page|level|sessionId|           ts|userId|status|\n",
      "+----------+------+-----+-----+---------+-------------+------+------+\n",
      "|Logged Out|  null| Home| free|        8|1538355745000|      |   200|\n",
      "|Logged Out|  null| Help| free|        8|1538355807000|      |   200|\n",
      "|Logged Out|  null| Home| free|        8|1538355841000|      |   200|\n",
      "|Logged Out|  null|Login| free|        8|1538355842000|      |   307|\n",
      "|Logged Out|  null| Home| free|      240|1538356678000|      |   200|\n",
      "+----------+------+-----+-----+---------+-------------+------+------+\n",
      "only showing top 5 rows\n",
      "\n"
     ]
    }
   ],
   "source": [
    "# check invalid or missing values due to not having userids\n",
    "unknown_user = df_clean.filter((df_clean.userId.isNull()) | (df_clean.userId == ''))\n",
    "unknown_user.show(5)"
   ]
  },
  {
   "cell_type": "code",
   "execution_count": 17,
   "metadata": {},
   "outputs": [
    {
     "data": {
      "text/plain": [
       "[Row(page='Home'),\n",
       " Row(page='About'),\n",
       " Row(page='Submit Registration'),\n",
       " Row(page='Login'),\n",
       " Row(page='Register'),\n",
       " Row(page='Help'),\n",
       " Row(page='Error')]"
      ]
     },
     "execution_count": 17,
     "metadata": {},
     "output_type": "execute_result"
    }
   ],
   "source": [
    "# check 'page' values of unknown users\n",
    "unknown_user.select('page').distinct().collect()"
   ]
  },
  {
   "cell_type": "code",
   "execution_count": 18,
   "metadata": {},
   "outputs": [
    {
     "data": {
      "text/plain": [
       "[Row(auth='Logged Out'), Row(auth='Guest')]"
      ]
     },
     "execution_count": 18,
     "metadata": {},
     "output_type": "execute_result"
    }
   ],
   "source": [
    "# check 'auth' values of unknown users\n",
    "unknown_user.select('auth').distinct().collect()"
   ]
  },
  {
   "cell_type": "markdown",
   "metadata": {},
   "source": [
    "We can see the result above shows that all unknown users logged out their accounts from the application or used it as guest. Hence, we received no identity of those cases. In this situation, we can go ahead to filter out all unknown users as there are no relevant information for predicting churn of users"
   ]
  },
  {
   "cell_type": "code",
   "execution_count": 19,
   "metadata": {},
   "outputs": [
    {
     "name": "stdout",
     "output_type": "stream",
     "text": [
      "+---------+------+--------+-----+---------+-------------+------+------+\n",
      "|     auth|gender|    page|level|sessionId|           ts|userId|status|\n",
      "+---------+------+--------+-----+---------+-------------+------+------+\n",
      "|Logged In|     M|NextSong| paid|       29|1538352117000|    30|   200|\n",
      "|Logged In|     M|NextSong| free|        8|1538352180000|     9|   200|\n",
      "|Logged In|     M|NextSong| paid|       29|1538352394000|    30|   200|\n",
      "|Logged In|     M|NextSong| free|        8|1538352416000|     9|   200|\n",
      "|Logged In|     M|NextSong| paid|       29|1538352676000|    30|   200|\n",
      "+---------+------+--------+-----+---------+-------------+------+------+\n",
      "only showing top 5 rows\n",
      "\n"
     ]
    }
   ],
   "source": [
    "# keep only the valid userids\n",
    "df_clean = df_clean.filter(~((df_clean.userId.isNull()) | (df_clean.userId == '')))\n",
    "df_clean.show(5)"
   ]
  },
  {
   "cell_type": "code",
   "execution_count": 20,
   "metadata": {},
   "outputs": [
    {
     "data": {
      "text/plain": [
       "[Row(status=307), Row(status=404), Row(status=200)]"
      ]
     },
     "execution_count": 20,
     "metadata": {},
     "output_type": "execute_result"
    }
   ],
   "source": [
    "# check the status value to see whether there are status != 200\n",
    "df_clean.select('status').distinct().collect()"
   ]
  },
  {
   "cell_type": "code",
   "execution_count": 21,
   "metadata": {},
   "outputs": [],
   "source": [
    "# the status 404 indicates an error so it should be removed in the dataframe\n",
    "df_clean = df_clean.filter(df.status != 404)"
   ]
  },
  {
   "cell_type": "code",
   "execution_count": 22,
   "metadata": {},
   "outputs": [
    {
     "name": "stdout",
     "output_type": "stream",
     "text": [
      "+---------+------+--------+-----+---------+-------------------+------+------+\n",
      "|     auth|gender|    page|level|sessionId|                 ts|userId|status|\n",
      "+---------+------+--------+-----+---------+-------------------+------+------+\n",
      "|Logged In|     M|NextSong| paid|       29|2018-10-01 00:01:57|    30|   200|\n",
      "|Logged In|     M|NextSong| free|        8|2018-10-01 00:03:00|     9|   200|\n",
      "|Logged In|     M|NextSong| paid|       29|2018-10-01 00:06:34|    30|   200|\n",
      "|Logged In|     M|NextSong| free|        8|2018-10-01 00:06:56|     9|   200|\n",
      "|Logged In|     M|NextSong| paid|       29|2018-10-01 00:11:16|    30|   200|\n",
      "+---------+------+--------+-----+---------+-------------------+------+------+\n",
      "only showing top 5 rows\n",
      "\n"
     ]
    }
   ],
   "source": [
    "# convert 'ts' column to datetime\n",
    "df_clean = df_clean.withColumn('ts', F.to_timestamp(F.col('ts')/1000))\n",
    "df_clean.show(5)"
   ]
  },
  {
   "cell_type": "code",
   "execution_count": 23,
   "metadata": {},
   "outputs": [
    {
     "name": "stdout",
     "output_type": "stream",
     "text": [
      "+---------+------+--------+-----+---------+-------------------+------+------+----+-----+---+\n",
      "|     auth|gender|    page|level|sessionId|                 ts|userId|status|year|month|day|\n",
      "+---------+------+--------+-----+---------+-------------------+------+------+----+-----+---+\n",
      "|Logged In|     M|NextSong| paid|       29|2018-10-01 00:01:57|    30|   200|2018|   10|  1|\n",
      "|Logged In|     M|NextSong| free|        8|2018-10-01 00:03:00|     9|   200|2018|   10|  1|\n",
      "|Logged In|     M|NextSong| paid|       29|2018-10-01 00:06:34|    30|   200|2018|   10|  1|\n",
      "|Logged In|     M|NextSong| free|        8|2018-10-01 00:06:56|     9|   200|2018|   10|  1|\n",
      "|Logged In|     M|NextSong| paid|       29|2018-10-01 00:11:16|    30|   200|2018|   10|  1|\n",
      "+---------+------+--------+-----+---------+-------------------+------+------+----+-----+---+\n",
      "only showing top 5 rows\n",
      "\n"
     ]
    }
   ],
   "source": [
    "# extract year, month, day from 'ts' column\n",
    "df_clean = df_clean.withColumn('year', F.year('ts')) \\\n",
    "    .withColumn('month', F.month('ts')) \\\n",
    "    .withColumn('day', F.dayofmonth('ts')) \\\n",
    "\n",
    "df_clean.show(5)"
   ]
  },
  {
   "cell_type": "code",
   "execution_count": 24,
   "metadata": {},
   "outputs": [
    {
     "data": {
      "text/plain": [
       "277902"
      ]
     },
     "execution_count": 24,
     "metadata": {},
     "output_type": "execute_result"
    }
   ],
   "source": [
    "# number of records\n",
    "df_clean.count()"
   ]
  },
  {
   "cell_type": "markdown",
   "metadata": {},
   "source": [
    "#### Preliminary analysis"
   ]
  },
  {
   "cell_type": "code",
   "execution_count": 25,
   "metadata": {},
   "outputs": [
    {
     "data": {
      "text/plain": [
       "<matplotlib.axes._subplots.AxesSubplot at 0x7fe2a4fbb9e8>"
      ]
     },
     "execution_count": 25,
     "metadata": {},
     "output_type": "execute_result"
    },
    {
     "data": {
      "image/png": "[encoded data removed]",
      "text/plain": [
       "<matplotlib.figure.Figure at 0x7fe29de51f98>"
      ]
     },
     "metadata": {
      "needs_background": "light"
     },
     "output_type": "display_data"
    }
   ],
   "source": [
    "# show number of paid/free\n",
    "pd_level = df_clean.select('level').toPandas()\n",
    "sns.countplot('level', data=pd_level)"
   ]
  },
  {
   "cell_type": "code",
   "execution_count": 26,
   "metadata": {},
   "outputs": [
    {
     "data": {
      "text/plain": [
       "<matplotlib.axes._subplots.AxesSubplot at 0x7fe29e2e9390>"
      ]
     },
     "execution_count": 26,
     "metadata": {},
     "output_type": "execute_result"
    },
    {
     "data": {
      "image/png": "[encoded data removed]",
      "text/plain": [
       "<matplotlib.figure.Figure at 0x7fe29cbbf3c8>"
      ]
     },
     "metadata": {
      "needs_background": "light"
     },
     "output_type": "display_data"
    }
   ],
   "source": [
    "# show number of male/female\n",
    "pd_gender = df_clean.select('gender').toPandas()\n",
    "sns.countplot('gender', data=pd_gender)"
   ]
  },
  {
   "cell_type": "markdown",
   "metadata": {},
   "source": [
    "#### Define Churn"
   ]
  },
  {
   "cell_type": "code",
   "execution_count": 27,
   "metadata": {},
   "outputs": [
    {
     "name": "stdout",
     "output_type": "stream",
     "text": [
      "+---------+------+--------+-----+---------+-------------------+------+------+----+-----+---+-----+\n",
      "|     auth|gender|    page|level|sessionId|                 ts|userId|status|year|month|day|churn|\n",
      "+---------+------+--------+-----+---------+-------------------+------+------+----+-----+---+-----+\n",
      "|Logged In|     M|NextSong| paid|       29|2018-10-01 00:01:57|    30|   200|2018|   10|  1|    0|\n",
      "|Logged In|     M|NextSong| free|        8|2018-10-01 00:03:00|     9|   200|2018|   10|  1|    0|\n",
      "|Logged In|     M|NextSong| paid|       29|2018-10-01 00:06:34|    30|   200|2018|   10|  1|    0|\n",
      "|Logged In|     M|NextSong| free|        8|2018-10-01 00:06:56|     9|   200|2018|   10|  1|    0|\n",
      "|Logged In|     M|NextSong| paid|       29|2018-10-01 00:11:16|    30|   200|2018|   10|  1|    0|\n",
      "+---------+------+--------+-----+---------+-------------------+------+------+----+-----+---+-----+\n",
      "only showing top 5 rows\n",
      "\n"
     ]
    }
   ],
   "source": [
    "# define churn by using the 'Cancellation Confirmation' events in 'page' column \n",
    "df_clean = df_clean.withColumn(\n",
    "    \"churn\",\n",
    "    F.when(F.col(\"page\") == \"Cancellation Confirmation\", 1).otherwise(0)\n",
    ")\n",
    "\n",
    "df_clean.show(5)"
   ]
  },
  {
   "cell_type": "code",
   "execution_count": 28,
   "metadata": {},
   "outputs": [
    {
     "name": "stdout",
     "output_type": "stream",
     "text": [
      "+-----+------+\n",
      "|churn| count|\n",
      "+-----+------+\n",
      "|    1|    52|\n",
      "|    0|277850|\n",
      "+-----+------+\n",
      "\n"
     ]
    }
   ],
   "source": [
    "# number of churn users\n",
    "df_clean.groupby('churn').count().show()"
   ]
  },
  {
   "cell_type": "code",
   "execution_count": 29,
   "metadata": {},
   "outputs": [
    {
     "name": "stdout",
     "output_type": "stream",
     "text": [
      "Churn rate: 23.11%\n"
     ]
    }
   ],
   "source": [
    "# calculate the churn rate\n",
    "total_user = df_clean.select('userid').distinct().count()\n",
    "churn_rate = 52/total_user*100 \n",
    "print('Churn rate: %.2f%%' % churn_rate)"
   ]
  },
  {
   "cell_type": "markdown",
   "metadata": {},
   "source": [
    "#### Explore Data"
   ]
  },
  {
   "cell_type": "code",
   "execution_count": 30,
   "metadata": {},
   "outputs": [
    {
     "data": {
      "text/plain": [
       "<matplotlib.axes._subplots.AxesSubplot at 0x7fe297ce8cc0>"
      ]
     },
     "execution_count": 30,
     "metadata": {},
     "output_type": "execute_result"
    },
    {
     "data": {
      "image/png": "[encoded data removed]",
      "text/plain": [
       "<matplotlib.figure.Figure at 0x7fe297f2c208>"
      ]
     },
     "metadata": {
      "needs_background": "light"
     },
     "output_type": "display_data"
    }
   ],
   "source": [
    "df_level = df_clean.select('userId', 'level', 'churn').distinct()\n",
    "pd_level_churn = df_level.select('level', 'churn').toPandas()\n",
    "sns.countplot(x='level', hue='churn', data=pd_level_churn);"
   ]
  },
  {
   "cell_type": "markdown",
   "metadata": {},
   "source": [
    "From the bar chart above, we can obviously see whether a free user tend to cancel their account when comparing to the paid one. And it shows that there is a larger amount of users who paid for the app decided to cancel the app. "
   ]
  },
  {
   "cell_type": "code",
   "execution_count": 31,
   "metadata": {},
   "outputs": [
    {
     "data": {
      "text/plain": [
       "<matplotlib.axes._subplots.AxesSubplot at 0x7fe2a71a5b38>"
      ]
     },
     "execution_count": 31,
     "metadata": {},
     "output_type": "execute_result"
    },
    {
     "data": {
      "image/png": "[encoded data removed]",
      "text/plain": [
       "<matplotlib.figure.Figure at 0x7fe299e78e48>"
      ]
     },
     "metadata": {
      "needs_background": "light"
     },
     "output_type": "display_data"
    }
   ],
   "source": [
    "df_gender = df_clean.select('userId', 'gender', 'churn').distinct()\n",
    "pd_gender_churn = df_gender.select('gender', 'churn').toPandas()\n",
    "sns.countplot(x='gender', hue='churn', data=pd_gender_churn);"
   ]
  },
  {
   "cell_type": "markdown",
   "metadata": {},
   "source": [
    "This second bar chart shows us that male users seems to be more active to use this app than female users are. It somehow has the same tendency with the ratio of canceling the app between the male and female users. We can see that the number of churn male users is nearly twice as many as the one of churn female user."
   ]
  },
  {
   "cell_type": "code",
   "execution_count": 64,
   "metadata": {},
   "outputs": [
    {
     "data": {
      "text/plain": [
       "<matplotlib.axes._subplots.AxesSubplot at 0x7fe2a4dc4908>"
      ]
     },
     "execution_count": 64,
     "metadata": {},
     "output_type": "execute_result"
    },
    {
     "data": {
      "image/png": "[encoded data removed]",
      "text/plain": [
       "<matplotlib.figure.Figure at 0x7fe2a4828780>"
      ]
     },
     "metadata": {
      "needs_background": "light"
     },
     "output_type": "display_data"
    }
   ],
   "source": [
    "df_user_session = df_clean.select('userId', 'day', 'churn').distinct()\n",
    "pd_user_session_churn = df_user_session.select('day', 'churn').toPandas()\n",
    "plt.figure(figsize=(18,6))\n",
    "sns.countplot(x='day', hue='churn', data=pd_user_session_churn);"
   ]
  },
  {
   "cell_type": "markdown",
   "metadata": {},
   "source": [
    "This bar chart shows the interaction of the users through days in a month. And there are some days in a month we had many users who decided to cancel the application such as: 2nd, 12th, 17th, 20th of a month."
   ]
  },
  {
   "cell_type": "markdown",
   "metadata": {},
   "source": [
    "# Feature Engineering\n",
    "Once you've familiarized yourself with the data, build out the features you find promising to train your model on. To work with the full dataset, you can follow the following steps.\n",
    "- Write a script to extract the necessary features from the smaller subset of data\n",
    "- Ensure that your script is scalable, using the best practices discussed in Lesson 3\n",
    "- Try your script on the full data set, debugging your script if necessary\n",
    "\n",
    "If you are working in the classroom workspace, you can just extract features based on the small subset of data contained here. Be sure to transfer over this work to the larger dataset when you work on your Spark cluster."
   ]
  },
  {
   "cell_type": "markdown",
   "metadata": {},
   "source": [
    "#### Features selected for building model:\n",
    "\n",
    "- churn (Label)\n",
    "- level\n",
    "- gender\n",
    "- daily_session\n",
    "- monthly_session\n",
    "- daily_interaction\n",
    "- monthly_interaction"
   ]
  },
  {
   "cell_type": "code",
   "execution_count": 32,
   "metadata": {
    "scrolled": true
   },
   "outputs": [
    {
     "name": "stdout",
     "output_type": "stream",
     "text": [
      "+---------+------+--------+-----+---------+-------------------+------+------+----+-----+---+-----+\n",
      "|     auth|gender|    page|level|sessionId|                 ts|userId|status|year|month|day|churn|\n",
      "+---------+------+--------+-----+---------+-------------------+------+------+----+-----+---+-----+\n",
      "|Logged In|     M|NextSong| paid|       29|2018-10-01 00:01:57|    30|   200|2018|   10|  1|    0|\n",
      "|Logged In|     M|NextSong| free|        8|2018-10-01 00:03:00|     9|   200|2018|   10|  1|    0|\n",
      "|Logged In|     M|NextSong| paid|       29|2018-10-01 00:06:34|    30|   200|2018|   10|  1|    0|\n",
      "|Logged In|     M|NextSong| free|        8|2018-10-01 00:06:56|     9|   200|2018|   10|  1|    0|\n",
      "|Logged In|     M|NextSong| paid|       29|2018-10-01 00:11:16|    30|   200|2018|   10|  1|    0|\n",
      "+---------+------+--------+-----+---------+-------------------+------+------+----+-----+---+-----+\n",
      "only showing top 5 rows\n",
      "\n"
     ]
    }
   ],
   "source": [
    "df_clean.show(5)"
   ]
  },
  {
   "cell_type": "code",
   "execution_count": 33,
   "metadata": {},
   "outputs": [
    {
     "name": "stdout",
     "output_type": "stream",
     "text": [
      "+-------------------+-------------------+\n",
      "|            min(ts)|            max(ts)|\n",
      "+-------------------+-------------------+\n",
      "|2018-10-01 00:01:57|2018-12-03 01:11:16|\n",
      "+-------------------+-------------------+\n",
      "\n"
     ]
    }
   ],
   "source": [
    "# show the first date and the last date of recorded data\n",
    "df_clean.agg(F.min(\"ts\"), F.max(\"ts\")).show()"
   ]
  },
  {
   "cell_type": "code",
   "execution_count": 34,
   "metadata": {},
   "outputs": [
    {
     "data": {
      "text/plain": [
       "[Row(month=12), Row(month=10), Row(month=11)]"
      ]
     },
     "execution_count": 34,
     "metadata": {},
     "output_type": "execute_result"
    }
   ],
   "source": [
    "# show months\n",
    "df_clean.select('month').distinct().collect()"
   ]
  },
  {
   "cell_type": "code",
   "execution_count": 35,
   "metadata": {},
   "outputs": [
    {
     "data": {
      "text/plain": [
       "[Row(day=31),\n",
       " Row(day=28),\n",
       " Row(day=26),\n",
       " Row(day=27),\n",
       " Row(day=12),\n",
       " Row(day=22),\n",
       " Row(day=1),\n",
       " Row(day=13),\n",
       " Row(day=6),\n",
       " Row(day=16),\n",
       " Row(day=3),\n",
       " Row(day=20),\n",
       " Row(day=5),\n",
       " Row(day=19),\n",
       " Row(day=15),\n",
       " Row(day=9),\n",
       " Row(day=17),\n",
       " Row(day=4),\n",
       " Row(day=8),\n",
       " Row(day=23),\n",
       " Row(day=7),\n",
       " Row(day=10),\n",
       " Row(day=25),\n",
       " Row(day=24),\n",
       " Row(day=29),\n",
       " Row(day=21),\n",
       " Row(day=11),\n",
       " Row(day=14),\n",
       " Row(day=2),\n",
       " Row(day=30),\n",
       " Row(day=18)]"
      ]
     },
     "execution_count": 35,
     "metadata": {},
     "output_type": "execute_result"
    }
   ],
   "source": [
    "# show days\n",
    "df_clean.select('day').distinct().collect()"
   ]
  },
  {
   "cell_type": "code",
   "execution_count": 36,
   "metadata": {},
   "outputs": [],
   "source": [
    "# daily session per user - df\n",
    "daily_session_per_user = df_clean.groupBy('userId', 'day').agg(\n",
    "    F.count('sessionId').alias('daily_session')\n",
    ")\n",
    "# average daily session\n",
    "daily_session_per_user = daily_session_per_user.groupBy('userId').agg(\n",
    "    F.avg('daily_session').alias('avg_daily_session')\n",
    ")\n",
    "\n",
    "# monthly session per user - df\n",
    "monthly_session_per_user = df_clean.groupBy('userId', 'month').agg(\n",
    "    F.count('sessionId').alias('monthly_session')\n",
    ")\n",
    "# average monthly session\n",
    "monthly_session_per_user = monthly_session_per_user.groupBy('userId').agg(\n",
    "    F.avg('monthly_session').alias('avg_monthly_session')\n",
    ")"
   ]
  },
  {
   "cell_type": "code",
   "execution_count": 37,
   "metadata": {},
   "outputs": [],
   "source": [
    "# join data for session df\n",
    "session_per_user = daily_session_per_user.join(monthly_session_per_user, 'userId', 'full')\n",
    "session_per_user = session_per_user.select(\n",
    "    'userId',\n",
    "    'avg_daily_session',\n",
    "    'avg_monthly_session'\n",
    ")"
   ]
  },
  {
   "cell_type": "code",
   "execution_count": 38,
   "metadata": {},
   "outputs": [
    {
     "name": "stdout",
     "output_type": "stream",
     "text": [
      "+------+------------------+-------------------+\n",
      "|userId| avg_daily_session|avg_monthly_session|\n",
      "+------+------------------+-------------------+\n",
      "|100010| 54.42857142857143|              190.5|\n",
      "|200002| 67.71428571428571|              237.0|\n",
      "|   125|              11.0|               11.0|\n",
      "|   124|            192.76|             2409.5|\n",
      "|    51|189.46153846153845|             2463.0|\n",
      "|     7|              25.0|              100.0|\n",
      "|    15|133.88235294117646|             1138.0|\n",
      "|    54|143.16666666666666|             1718.0|\n",
      "|   155|           124.875|              999.0|\n",
      "|100014|              62.0|              155.0|\n",
      "+------+------------------+-------------------+\n",
      "only showing top 10 rows\n",
      "\n"
     ]
    }
   ],
   "source": [
    "session_per_user.show(10)"
   ]
  },
  {
   "cell_type": "code",
   "execution_count": 39,
   "metadata": {},
   "outputs": [],
   "source": [
    "# daily item per user - df\n",
    "daily_item_per_user = df_clean.groupBy('userId', 'day').agg(\n",
    "    F.countDistinct('page').alias('daily_item')\n",
    ")\n",
    "# average daily item\n",
    "daily_item_per_user = daily_item_per_user.groupBy('userId').agg(\n",
    "    F.avg('daily_item').alias('avg_daily_item')\n",
    ")\n",
    "\n",
    "# monthly item per user - df\n",
    "monthly_item_per_user = df_clean.groupBy('userId', 'month').agg(\n",
    "    F.countDistinct('page').alias('monthly_item')\n",
    ")\n",
    "# average monthly item\n",
    "monthly_item_per_user = monthly_item_per_user.groupBy('userId').agg(\n",
    "    F.avg('monthly_item').alias('avg_monthly_item')\n",
    ")"
   ]
  },
  {
   "cell_type": "code",
   "execution_count": 40,
   "metadata": {},
   "outputs": [],
   "source": [
    "# join data for item df\n",
    "item_per_user = daily_item_per_user.join(monthly_item_per_user, 'userId', 'full')\n",
    "item_per_user = item_per_user.select(\n",
    "    'userId',\n",
    "    'avg_daily_item',\n",
    "    'avg_monthly_item'\n",
    ")"
   ]
  },
  {
   "cell_type": "code",
   "execution_count": 41,
   "metadata": {},
   "outputs": [
    {
     "name": "stdout",
     "output_type": "stream",
     "text": [
      "+------+-----------------+----------------+\n",
      "|userId|   avg_daily_item|avg_monthly_item|\n",
      "+------+-----------------+----------------+\n",
      "|100010|6.714285714285714|            10.5|\n",
      "|200002|6.857142857142857|            11.0|\n",
      "|   125|              4.0|             4.0|\n",
      "|   124|             8.64|            12.5|\n",
      "|    51|              8.0|            14.0|\n",
      "|     7|            4.375|             9.5|\n",
      "|    15|7.647058823529412|            12.5|\n",
      "|    54|              8.0|            15.0|\n",
      "|   155|             7.75|            14.0|\n",
      "|100014|              6.2|            10.0|\n",
      "+------+-----------------+----------------+\n",
      "only showing top 10 rows\n",
      "\n"
     ]
    }
   ],
   "source": [
    "item_per_user.show(10)"
   ]
  },
  {
   "cell_type": "code",
   "execution_count": 42,
   "metadata": {},
   "outputs": [],
   "source": [
    "# final dataframe\n",
    "final_df = session_per_user.join(item_per_user, 'userId', 'full')\n",
    "final_df = final_df.select(\n",
    "    'userId',\n",
    "    'avg_daily_session',\n",
    "    'avg_monthly_session',\n",
    "    'avg_daily_item',\n",
    "    'avg_monthly_item'\n",
    ")"
   ]
  },
  {
   "cell_type": "code",
   "execution_count": 43,
   "metadata": {},
   "outputs": [],
   "source": [
    "# join df_clean to get all needed features\n",
    "final_df = final_df.join(df_clean, 'userId', 'left')\n",
    "final_df = final_df.select(\n",
    "    'userId',\n",
    "    'gender',\n",
    "    'level',\n",
    "    'avg_daily_session',\n",
    "    'avg_monthly_session',\n",
    "    'avg_daily_item',\n",
    "    'avg_monthly_item',\n",
    "    'churn'\n",
    ").dropDuplicates()"
   ]
  },
  {
   "cell_type": "code",
   "execution_count": 44,
   "metadata": {},
   "outputs": [],
   "source": [
    "# with the same userID: the churn value '1' should be kept \n",
    "final_df = final_df.withColumn('sum_churn', F.sum('churn').over(Window.partitionBy('userId')))\n",
    "final_df = final_df.filter(~((F.col('churn') == 0) & (F.col('sum_churn') > 0)))"
   ]
  },
  {
   "cell_type": "code",
   "execution_count": 45,
   "metadata": {},
   "outputs": [
    {
     "name": "stdout",
     "output_type": "stream",
     "text": [
      "+------+------+-----+------------------+-------------------+-----------------+----------------+-----+---------+\n",
      "|userId|gender|level| avg_daily_session|avg_monthly_session|   avg_daily_item|avg_monthly_item|churn|sum_churn|\n",
      "+------+------+-----+------------------+-------------------+-----------------+----------------+-----+---------+\n",
      "|100010|     F| free| 54.42857142857143|              190.5|6.714285714285714|            10.5|    0|        0|\n",
      "|200002|     M| free| 67.71428571428571|              237.0|6.857142857142857|            11.0|    0|        0|\n",
      "|200002|     M| paid| 67.71428571428571|              237.0|6.857142857142857|            11.0|    0|        0|\n",
      "|   125|     M| free|              11.0|               11.0|              4.0|             4.0|    1|        1|\n",
      "|   124|     F| paid|            192.76|             2409.5|             8.64|            12.5|    0|        0|\n",
      "|    51|     M| paid|189.46153846153845|             2463.0|              8.0|            14.0|    1|        1|\n",
      "|     7|     M| free|              25.0|              100.0|            4.375|             9.5|    0|        0|\n",
      "|    15|     M| paid|133.88235294117646|             1138.0|7.647058823529412|            12.5|    0|        0|\n",
      "|    54|     F| paid|143.16666666666666|             1718.0|              8.0|            15.0|    1|        1|\n",
      "|   155|     F| free|           124.875|              999.0|             7.75|            14.0|    0|        0|\n",
      "+------+------+-----+------------------+-------------------+-----------------+----------------+-----+---------+\n",
      "only showing top 10 rows\n",
      "\n"
     ]
    }
   ],
   "source": [
    "final_df.show(10)"
   ]
  },
  {
   "cell_type": "code",
   "execution_count": 46,
   "metadata": {},
   "outputs": [
    {
     "name": "stdout",
     "output_type": "stream",
     "text": [
      "+-----+-----+\n",
      "|churn|count|\n",
      "+-----+-----+\n",
      "|    1|   52|\n",
      "|    0|  278|\n",
      "+-----+-----+\n",
      "\n"
     ]
    }
   ],
   "source": [
    "final_df.groupby('churn').count().show()"
   ]
  },
  {
   "cell_type": "code",
   "execution_count": 47,
   "metadata": {},
   "outputs": [],
   "source": [
    "# there are some users who first used the app free and then they paid for it.\n",
    "# we can consider those users as the paid users and drop the free-using records of them\n",
    "final_df = final_df.withColumn('level', F.when(F.col('level') == 'paid', 1).otherwise(0))\n",
    "final_df = final_df.withColumn('is_paid', F.sum('level').over(Window.partitionBy('userId')))\n",
    "final_df = final_df.filter(~((F.col('level') == 0) & (F.col('is_paid') > 0)))"
   ]
  },
  {
   "cell_type": "code",
   "execution_count": 48,
   "metadata": {},
   "outputs": [],
   "source": [
    "# convert 'gender' column to numeric value (M:1, F:0)\n",
    "final_df = final_df.withColumn('gender', F.when(F.col('gender') == 'M', 1).otherwise(0))"
   ]
  },
  {
   "cell_type": "code",
   "execution_count": 49,
   "metadata": {},
   "outputs": [],
   "source": [
    "# select needed column for final df\n",
    "final_df = final_df.select(\n",
    "    'userId',\n",
    "    'gender',\n",
    "    'level',\n",
    "    'avg_daily_session',\n",
    "    'avg_monthly_session',\n",
    "    'avg_daily_item',\n",
    "    'avg_monthly_item',\n",
    "    'churn'\n",
    ")"
   ]
  },
  {
   "cell_type": "code",
   "execution_count": 50,
   "metadata": {},
   "outputs": [
    {
     "name": "stdout",
     "output_type": "stream",
     "text": [
      "+------+------+-----+------------------+-------------------+-----------------+----------------+-----+\n",
      "|userId|gender|level| avg_daily_session|avg_monthly_session|   avg_daily_item|avg_monthly_item|churn|\n",
      "+------+------+-----+------------------+-------------------+-----------------+----------------+-----+\n",
      "|100010|     0|    0| 54.42857142857143|              190.5|6.714285714285714|            10.5|    0|\n",
      "|200002|     1|    1| 67.71428571428571|              237.0|6.857142857142857|            11.0|    0|\n",
      "|   125|     1|    0|              11.0|               11.0|              4.0|             4.0|    1|\n",
      "|   124|     0|    1|            192.76|             2409.5|             8.64|            12.5|    0|\n",
      "|    51|     1|    1|189.46153846153845|             2463.0|              8.0|            14.0|    1|\n",
      "|     7|     1|    0|              25.0|              100.0|            4.375|             9.5|    0|\n",
      "|    15|     1|    1|133.88235294117646|             1138.0|7.647058823529412|            12.5|    0|\n",
      "|    54|     0|    1|143.16666666666666|             1718.0|              8.0|            15.0|    1|\n",
      "|   155|     0|    1|           124.875|              999.0|             7.75|            14.0|    0|\n",
      "|100014|     1|    1|              62.0|              155.0|              6.2|            10.0|    1|\n",
      "+------+------+-----+------------------+-------------------+-----------------+----------------+-----+\n",
      "only showing top 10 rows\n",
      "\n"
     ]
    }
   ],
   "source": [
    "final_df.show(10)"
   ]
  },
  {
   "cell_type": "code",
   "execution_count": 51,
   "metadata": {},
   "outputs": [
    {
     "data": {
      "text/plain": [
       "225"
      ]
     },
     "execution_count": 51,
     "metadata": {},
     "output_type": "execute_result"
    }
   ],
   "source": [
    "final_df.count()"
   ]
  },
  {
   "cell_type": "markdown",
   "metadata": {},
   "source": [
    "# Modeling\n",
    "Split the full dataset into train, test, and validation sets. Test out several of the machine learning methods you learned. Evaluate the accuracy of the various models, tuning parameters as necessary. Determine your winning model based on test accuracy and report results on the validation set. Since the churned users are a fairly small subset, I suggest using F1 score as the metric to optimize."
   ]
  },
  {
   "cell_type": "code",
   "execution_count": 52,
   "metadata": {},
   "outputs": [
    {
     "data": {
      "text/plain": [
       "['gender',\n",
       " 'level',\n",
       " 'avg_daily_session',\n",
       " 'avg_monthly_session',\n",
       " 'avg_daily_item',\n",
       " 'avg_monthly_item']"
      ]
     },
     "execution_count": 52,
     "metadata": {},
     "output_type": "execute_result"
    }
   ],
   "source": [
    "# get feature columns\n",
    "feature_col = final_df.columns[1:-1]\n",
    "feature_col"
   ]
  },
  {
   "cell_type": "code",
   "execution_count": 53,
   "metadata": {},
   "outputs": [],
   "source": [
    "# Split dataset into train, test data\n",
    "train_data, test_data = final_df.randomSplit([0.8, 0.2])"
   ]
  },
  {
   "cell_type": "code",
   "execution_count": 54,
   "metadata": {},
   "outputs": [],
   "source": [
    "# function to build model\n",
    "def build_model(clf, param):\n",
    "    '''\n",
    "    Build the classfication model with Cross Validation\n",
    "    \n",
    "    clf: classification model\n",
    "    param: parameter tuning for the model\n",
    "    \n",
    "    return: built classfication model\n",
    "    '''\n",
    "    \n",
    "    assembler = VectorAssembler(inputCols=feature_col, outputCol='features')\n",
    "    scaler = MinMaxScaler(inputCol='features', outputCol='mmScale_features')\n",
    "    pipeline = Pipeline(stages=[assembler, scaler, clf])\n",
    "\n",
    "    model = CrossValidator(\n",
    "        estimator=pipeline,\n",
    "        estimatorParamMaps=param,\n",
    "        evaluator=MulticlassClassificationEvaluator(labelCol='churn', metricName='f1'),\n",
    "        numFolds=5,\n",
    "    )\n",
    "    return model\n",
    "\n",
    "# function to evaluate the built model\n",
    "def evaluate_model(churn_pred):\n",
    "    ''' Model evaluation with F1 score metric '''\n",
    "    \n",
    "    evaluator = MulticlassClassificationEvaluator(predictionCol='prediction', labelCol='churn')\n",
    "    f1_score = evaluator.evaluate(churn_pred, {evaluator.metricName: 'f1'})\n",
    "    print('F1 score: ', f1_score)"
   ]
  },
  {
   "cell_type": "code",
   "execution_count": 55,
   "metadata": {},
   "outputs": [
    {
     "name": "stdout",
     "output_type": "stream",
     "text": [
      "F1 score:  0.6763654162531101\n"
     ]
    }
   ],
   "source": [
    "# Logistic Regression model\n",
    "lr = LogisticRegression(featuresCol='mmScale_features', labelCol='churn')\n",
    "lr_param = ParamGridBuilder().build()\n",
    "lr_model = build_model(lr, lr_param)\n",
    "# fit model \n",
    "lr_model = lr_model.fit(train_data)\n",
    "churn_pred_lr = lr_model.transform(test_data)\n",
    "# evaluate model\n",
    "evaluate_model(churn_pred_lr)"
   ]
  },
  {
   "cell_type": "code",
   "execution_count": 56,
   "metadata": {},
   "outputs": [
    {
     "name": "stdout",
     "output_type": "stream",
     "text": [
      "F1 score:  0.7261553522141702\n"
     ]
    }
   ],
   "source": [
    "# Random Forest model\n",
    "rf = RandomForestClassifier(featuresCol='mmScale_features', labelCol='churn')\n",
    "rf_param = ParamGridBuilder().build()\n",
    "rf_model = build_model(rf, rf_param)\n",
    "# fit model \n",
    "rf_model = rf_model.fit(train_data)\n",
    "churn_pred_rf = rf_model.transform(test_data)\n",
    "# evaluate model\n",
    "evaluate_model(churn_pred_rf)"
   ]
  },
  {
   "cell_type": "code",
   "execution_count": 57,
   "metadata": {},
   "outputs": [
    {
     "name": "stdout",
     "output_type": "stream",
     "text": [
      "F1 score:  0.6773752563226249\n"
     ]
    }
   ],
   "source": [
    "# Gradient Boosting model\n",
    "gb = GBTClassifier(featuresCol='mmScale_features', labelCol='churn')\n",
    "gb_param = ParamGridBuilder().build()\n",
    "gb_model = build_model(gb, gb_param)\n",
    "# fit model \n",
    "gb_model = gb_model.fit(train_data)\n",
    "churn_pred_gb = gb_model.transform(test_data)\n",
    "# evaluate model\n",
    "evaluate_model(churn_pred_gb)"
   ]
  },
  {
   "cell_type": "code",
   "execution_count": 60,
   "metadata": {},
   "outputs": [
    {
     "name": "stdout",
     "output_type": "stream",
     "text": [
      "userId : 0.06926179401232904 \n",
      "\n",
      "gender : 0.02712239627707135 \n",
      "\n",
      "level : 0.22341188370490261 \n",
      "\n",
      "avg_daily_session : 0.19548494930362276 \n",
      "\n",
      "avg_monthly_session : 0.22283214042169672 \n",
      "\n",
      "avg_daily_item : 0.26188683628037757 \n",
      "\n"
     ]
    }
   ],
   "source": [
    "# Extract important features\n",
    "best_model = gb_model.bestModel\n",
    "for i in range(len(best_model.stages[2].featureImportances)):\n",
    "    print(\"{} : {} \\n\".format(final_df.columns[i], best_model.stages[2].featureImportances[i]))"
   ]
  },
  {
   "cell_type": "markdown",
   "metadata": {},
   "source": [
    "# Final Steps\n",
    "Clean up your code, adding comments and renaming variables to make the code easier to read and maintain. Refer to the Spark Project Overview page and Data Scientist Capstone Project Rubric to make sure you are including all components of the capstone project and meet all expectations. Remember, this includes thorough documentation in a README file in a Github repository, as well as a web app or blog post.\n",
    "\n"
   ]
  }
 ],
 "metadata": {
  "kernelspec": {
   "display_name": "Python 3",
   "language": "python",
   "name": "python3"
  },
  "language_info": {
   "codemirror_mode": {
    "name": "ipython",
    "version": 3
   },
   "file_extension": ".py",
   "mimetype": "text/x-python",
   "name": "python",
   "nbconvert_exporter": "python",
   "pygments_lexer": "ipython3",
   "version": "3.6.3"
  }
 },
 "nbformat": 4,
 "nbformat_minor": 2
}
